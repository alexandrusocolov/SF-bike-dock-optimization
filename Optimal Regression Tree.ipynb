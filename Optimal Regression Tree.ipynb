{
 "cells": [
  {
   "cell_type": "markdown",
   "metadata": {},
   "source": [
    "## SF Bike-sharing Dock Size Optimization\n",
    "\n",
    "Gege Zhang (gegez@mit.edu)\n",
    "\n",
    "Alexandru Socolov (socolov@mit.edu)"
   ]
  },
  {
   "cell_type": "code",
   "execution_count": null,
   "metadata": {},
   "outputs": [],
   "source": [
    "using JuMP, Gurobi, CSV, StatsBase, DataFrames, LinearAlgebra, Distributions, Plots, Random, Statistics, Dates"
   ]
  },
  {
   "cell_type": "code",
   "execution_count": null,
   "metadata": {},
   "outputs": [],
   "source": [
    "bikes = CSV.read(\"status_station_weather_NAremoved.csv\", header = true, missingstring = \"NA\")\n",
    "bikes = bikes[!, 3:end];"
   ]
  },
  {
   "cell_type": "code",
   "execution_count": null,
   "metadata": {},
   "outputs": [],
   "source": [
    "bikes[:, :station_id] = categorical(string.(bikes[:, :station_id]))\n",
    "bikes[:, :zip_code] = categorical(string.(bikes[:, :zip_code]));"
   ]
  },
  {
   "cell_type": "code",
   "execution_count": null,
   "metadata": {},
   "outputs": [],
   "source": [
    "first(bikes, 5)"
   ]
  },
  {
   "cell_type": "code",
   "execution_count": null,
   "metadata": {},
   "outputs": [],
   "source": [
    "println(names(bikes))"
   ]
  },
  {
   "cell_type": "markdown",
   "metadata": {},
   "source": [
    "### Splitting the data: \n",
    "train = before May 2015\n",
    "\n",
    "test = June - Aug 2015"
   ]
  },
  {
   "cell_type": "code",
   "execution_count": null,
   "metadata": {},
   "outputs": [],
   "source": [
    "bikes_train = bikes[bikes[!, :date] .<= Date(\"2015-05-31\"), :]\n",
    "bikes_test = bikes[bikes[!, :date] .> Date(\"2015-05-31\"), :];"
   ]
  },
  {
   "cell_type": "code",
   "execution_count": null,
   "metadata": {},
   "outputs": [],
   "source": [
    "CSV.write(\"bike_train.csv\", bikes_train)\n",
    "CSV.write(\"bike_test.csv\", bikes_test)"
   ]
  },
  {
   "cell_type": "code",
   "execution_count": null,
   "metadata": {},
   "outputs": [],
   "source": [
    "println(size(bikes_train))\n",
    "println(size(bikes_test))"
   ]
  },
  {
   "cell_type": "markdown",
   "metadata": {},
   "source": [
    "### Fit ORT"
   ]
  },
  {
   "cell_type": "code",
   "execution_count": null,
   "metadata": {},
   "outputs": [],
   "source": [
    "bikes_train_X = bikes_train[:, filter(x -> !(x in [:installation_date, :dock_count, :date,\n",
    "                                   :avg_docks_available, :avg_bikes_available, :events, :precipitation_inches, :population, :station_id]), names(bikes_train))]\n",
    "bikes_train_Y = bikes_train[!, :avg_docks_available];"
   ]
  },
  {
   "cell_type": "code",
   "execution_count": null,
   "metadata": {},
   "outputs": [],
   "source": [
    "lnr = IAI.OptimalTreeRegressor(random_seed=1, max_depth=5, minbucket=10, missingdatamode = :separate_class)\n",
    "\n",
    "grid = IAI.GridSearch(lnr, max_depth=1:10, minbucket = collect(50:20:100))\n",
    "\n",
    "IAI.fit!(grid, bikes_train_X, bikes_train_Y)"
   ]
  },
  {
   "cell_type": "code",
   "execution_count": null,
   "metadata": {},
   "outputs": [],
   "source": [
    "lnr_fitted = IAI.get_learner(grid)"
   ]
  },
  {
   "cell_type": "code",
   "execution_count": null,
   "metadata": {},
   "outputs": [],
   "source": [
    "bikes_test_X = bikes_test[:, filter(x -> !(x in [:installation_date, :dock_count, :date,\n",
    "                                   :avg_docks_available, :avg_bikes_available, :events, :precipitation_inches, :population, :station_id]), names(bikes_test))]\n",
    "bikes_test_Y = bikes_test[!, :avg_docks_available];"
   ]
  },
  {
   "cell_type": "code",
   "execution_count": null,
   "metadata": {},
   "outputs": [],
   "source": [
    "println(IAI.score(lnr_fitted, bikes_test_X, bikes_test_Y))"
   ]
  },
  {
   "cell_type": "code",
   "execution_count": null,
   "metadata": {},
   "outputs": [],
   "source": [
    "lnr_fitted = IAI.fit!(lnr, bikes_train_X, bikes_train_Y)\n",
    "bikes_test_prediction = IAI.predict(lnr_fitted, bikes_test_X);"
   ]
  },
  {
   "cell_type": "code",
   "execution_count": null,
   "metadata": {},
   "outputs": [],
   "source": [
    "SSE = sum((bikes_test_prediction - bikes_test_Y).^2)\n",
    "SST = sum((mean(bikes_test_Y) .- bikes_test_Y).^2)\n",
    "OSR2 = 1-SSE/SST\n",
    "OSR2"
   ]
  },
  {
   "cell_type": "code",
   "execution_count": null,
   "metadata": {},
   "outputs": [],
   "source": [
    "SSE = sum((bikes_test_prediction - bikes_test_Y).^2)"
   ]
  },
  {
   "cell_type": "code",
   "execution_count": null,
   "metadata": {},
   "outputs": [],
   "source": [
    "lnr = IAI.OptimalTreeRegressor(random_seed=1, max_depth=7, minbucket=70, \n",
    "    cp = 0.000145028525998319728, missingdatamode = :separate_class)"
   ]
  },
  {
   "cell_type": "code",
   "execution_count": null,
   "metadata": {},
   "outputs": [],
   "source": [
    "bikes2 = bikes[bikes[!, :date] .< Date(\"2015-08-01\"), :]\n",
    "bikes2_X = bikes2[:, filter(x -> !(x in [:installation_date, :dock_count, :date,\n",
    "                                   :avg_docks_available, :avg_bikes_available, :events, :precipitation_inches, :population, :station_id]), names(bikes_test))]\n",
    "bikes2_Y = bikes2[!, :avg_docks_available];"
   ]
  },
  {
   "cell_type": "code",
   "execution_count": null,
   "metadata": {
    "scrolled": true
   },
   "outputs": [],
   "source": [
    "lnr_final = IAI.fit!(lnr, bikes2_X, bikes2_Y)"
   ]
  },
  {
   "cell_type": "code",
   "execution_count": null,
   "metadata": {},
   "outputs": [],
   "source": [
    "function prediction_calculation(station_X, station_Y)\n",
    "    prediction_Y = Array{Union{Missing, Any}}(missing, 31, 1)\n",
    "    for i = 1:31\n",
    "        point_prediction = IAI.predict(lnr_final, predict_matrix[i:i+1,:])\n",
    "        #print(point_prediction[2,1])\n",
    "        prediction_Y[i, 1] = point_prediction[2,1]\n",
    "        if i < 31\n",
    "            predict_matrix[i+2, 22] = point_prediction[2]  #lag 1\n",
    "        end\n",
    "    \n",
    "        if i < 24\n",
    "            predict_matrix[i+8, 23] = point_prediction[2] #lag 7\n",
    "        end\n",
    "    \n",
    "        if i == 1\n",
    "            predict_matrix[32, 24] = point_prediction[2]\n",
    "        end\n",
    "    end\n",
    " return prediction_Y\n",
    "end"
   ]
  },
  {
   "cell_type": "code",
   "execution_count": null,
   "metadata": {},
   "outputs": [],
   "source": [
    "prediction = Array{Union{Missing, Any}}(missing, 31, 70)\n",
    "k = 1\n",
    "for station_id in unique(bikes[:,:station_id])\n",
    "    #println(station_id)\n",
    "    station = bikes[bikes[!, :station_id] .== station_id, :]\n",
    "    station = station[station[!, :date] .>= Date(\"2015-07-01\"),:]\n",
    "    station_X = station[:, filter(x -> !(x in [:installation_date, :dock_count, :date,\n",
    "                                   :avg_docks_available, :avg_bikes_available, :events, \n",
    "                    :precipitation_inches, :population, :station_id]), names(station))]\n",
    "    station_Y = station[!, :avg_docks_available]\n",
    "    \n",
    "    predict_matrix = station_X[31:end, 1:21]\n",
    "    predict_matrix[!,:avg_docks_1D] .= 0.0\n",
    "    predict_matrix[!,:avg_docks_7D] .= 0.0\n",
    "    predict_matrix[!,:avg_docks_30D] .= 0.0\n",
    "\n",
    "    predict_matrix[1, 22] = station_Y[30, 1]\n",
    "    predict_matrix[1, 23] = station_Y[24, 1]\n",
    "    predict_matrix[1, 24] = station_Y[1, 1]\n",
    "\n",
    "    predict_matrix[2, 22] = station_Y[31, 1]\n",
    "    predict_matrix[2:8, 23] = station_Y[25:31, 1]\n",
    "    predict_matrix[2:31, 24] = station_Y[2:31, 1]\n",
    "\n",
    "    predict_matrix[:,22:24]\n",
    "    prediction_Y = prediction_calculation(station_X, station_Y)\n",
    "    prediction[:,k] = prediction_Y\n",
    "    k +=1\n",
    "end"
   ]
  },
  {
   "cell_type": "code",
   "execution_count": null,
   "metadata": {},
   "outputs": [],
   "source": [
    "prediction_table = Tables.table(prediction);"
   ]
  },
  {
   "cell_type": "code",
   "execution_count": null,
   "metadata": {},
   "outputs": [],
   "source": [
    "prediction"
   ]
  },
  {
   "cell_type": "code",
   "execution_count": null,
   "metadata": {},
   "outputs": [],
   "source": [
    "CSV.write(\"prediction.csv\", prediction_table)"
   ]
  },
  {
   "cell_type": "markdown",
   "metadata": {},
   "source": [
    "# Station 2 Analysis"
   ]
  },
  {
   "cell_type": "code",
   "execution_count": null,
   "metadata": {},
   "outputs": [],
   "source": [
    "bikes_station2 = bikes[bikes[!,:station_id] .== \"2\",:]\n",
    "bikes_station2_train = bikes_station2[bikes_station2[!, :date] .<= Date(\"2015-05-31\"), :]\n",
    "bikes_station2_test = bikes_station2[bikes_station2[!, :date] .> Date(\"2015-05-31\"), :];"
   ]
  },
  {
   "cell_type": "code",
   "execution_count": null,
   "metadata": {},
   "outputs": [],
   "source": [
    "bikes_station2_train_X = bikes_station2_train[:, filter(x -> !(x in [:installation_date, :dock_count, :date,\n",
    "                :avg_docks_available, :avg_bikes_available, :events, :precipitation_inches, :station_id]), names(bikes_station2_train))]\n",
    "bikes_station2_train_Y = bikes_station2_train[!, :avg_docks_available];"
   ]
  },
  {
   "cell_type": "code",
   "execution_count": null,
   "metadata": {},
   "outputs": [],
   "source": [
    "lnr = IAI.OptimalTreeRegressor(random_seed=1, max_depth=5, minbucket=10, missingdatamode = :separate_class)\n",
    "\n",
    "grid = IAI.GridSearch(lnr, max_depth=1:10, minbucket = collect(5:5:50))\n",
    "\n",
    "IAI.fit!(grid, bikes_station2_train_X, bikes_station2_train_Y)"
   ]
  },
  {
   "cell_type": "code",
   "execution_count": null,
   "metadata": {},
   "outputs": [],
   "source": [
    "lnr_fitted = IAI.get_learner(grid)"
   ]
  },
  {
   "cell_type": "code",
   "execution_count": null,
   "metadata": {},
   "outputs": [],
   "source": [
    "bikes_station2_test_X = bikes_station2_test[:, filter(x -> !(x in [:installation_date, :dock_count, :date,\n",
    "                :avg_docks_available, :avg_bikes_available, :events, :precipitation_inches, :station_id]), names(bikes_station2_test))]\n",
    "bikes_station2_test_Y = bikes_station2_test[!, :avg_docks_available];"
   ]
  },
  {
   "cell_type": "code",
   "execution_count": null,
   "metadata": {},
   "outputs": [],
   "source": [
    "println(IAI.score(lnr_fitted, bikes_station2_train_X, bikes_station2_train_Y))"
   ]
  },
  {
   "cell_type": "code",
   "execution_count": null,
   "metadata": {},
   "outputs": [],
   "source": [
    "println(IAI.score(lnr_fitted, bikes_station2_test_X, bikes_station2_test_Y))"
   ]
  }
 ],
 "metadata": {
  "kernelspec": {
   "display_name": "Julia 1.2.0",
   "language": "julia",
   "name": "julia-1.2"
  },
  "language_info": {
   "file_extension": ".jl",
   "mimetype": "application/julia",
   "name": "julia",
   "version": "1.2.0"
  }
 },
 "nbformat": 4,
 "nbformat_minor": 2
}
