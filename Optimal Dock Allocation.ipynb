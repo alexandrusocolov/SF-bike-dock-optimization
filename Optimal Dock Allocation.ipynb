{
 "cells": [
  {
   "cell_type": "code",
   "execution_count": 1,
   "metadata": {},
   "outputs": [],
   "source": [
    "using JuMP, Gurobi, CSV, StatsBase, DataFrames, Plots, Dates, Suppressor, DelimitedFiles"
   ]
  },
  {
   "cell_type": "markdown",
   "metadata": {},
   "source": [
    "### Optimal Dock Allocation\n",
    "Given what you think the next month's demand is going to be, what should the dock sizes look like?\n",
    "\n",
    "Complications: \n",
    "1. change as little stations as possible to lower some fixed costs\n",
    "2. station size should be more or less similar if the two neighbourhood's populations are similar\n"
   ]
  },
  {
   "cell_type": "code",
   "execution_count": 2,
   "metadata": {},
   "outputs": [
    {
     "data": {
      "text/plain": [
       "(2170, 32)"
      ]
     },
     "execution_count": 2,
     "metadata": {},
     "output_type": "execute_result"
    }
   ],
   "source": [
    "bikes = CSV.read(\"status_station_weather.csv\", header = true, missingstring = \"NA\")\n",
    "bikes_august = bikes[bikes[!, :date] .>= Date(\"2015-08-01\"), 3:end]\n",
    "size(bikes_august)"
   ]
  },
  {
   "cell_type": "code",
   "execution_count": 3,
   "metadata": {},
   "outputs": [
    {
     "data": {
      "text/plain": [
       "31×70 reshape(::Array{Union{Missing, Float64},1}, 31, 70) with eltype Union{Missing, Float64}:\n",
       " 16.5493  2.29722  3.93194  13.034    …  11.0111    8.05208  10.4319 \n",
       " 17.4241  3.17052  4.57587  13.1987       9.3013    8.07587   9.0    \n",
       " 16.984   4.47986  7.06389  13.4576       7.91806   8.07292  10.459  \n",
       " 13.9806  5.34931  4.60278  13.0458      11.15      8.42847  10.766  \n",
       " 18.9951  4.47847  3.3125   12.8146      10.8493    8.04514   9.45625\n",
       " 17.3236  4.73333  5.79792  12.6868   …   9.85833   8.03125   9.95486\n",
       " 17.1313  4.03819  7.32847  11.6479       8.55625   7.76528  11.459  \n",
       " 16.0868  3.54583  7.85556  12.0          9.86528   7.05556  11.5333 \n",
       " 17.241   3.93819  9.75139  12.0          7.22361   7.15833  10.6194 \n",
       " 17.4347  4.5      7.1      11.9778       8.75694   6.82292   7.93958\n",
       " 20.3007  4.91875  5.23472  12.909    …   9.55278   6.58681   7.06111\n",
       " 17.4208  7.41875  7.24653  14.3792       7.91111   7.48194   6.19583\n",
       " 18.9483  6.72714  5.98157  14.9043       7.74841   8.00071   4.85897\n",
       "  ⋮                                   ⋱                              \n",
       " 15.05    7.89097  6.06458  10.3951       8.35833   9.0      10.6521 \n",
       " 13.7409  7.66504  4.35446  11.3517   …   8.88928   9.0       7.42479\n",
       " 12.8229  5.00694  4.18194  12.3424       7.44444   9.0       5.29236\n",
       " 12.3097  4.83403  3.37917  13.0          7.75486   9.0       6.10278\n",
       " 10.9528  3.61944  3.12431  11.9535       7.73472   9.0       6.78194\n",
       " 15.4639  2.73958  4.38542  11.3618       8.99653   8.77778   7.03194\n",
       " 13.5028  2.68819  4.53403  12.0      …   6.65208   8.27222   9.11528\n",
       " 11.7319  3.73403  4.07639  11.7174       8.23681   9.58958  11.1375 \n",
       " 14.7444  5.50972  3.56736  10.4382       8.0625   10.0       5.82847\n",
       " 14.1049  8.0      2.74722   9.0          8.23264  10.0       5.64097\n",
       " 12.191   8.0      5.58264   9.57153      6.95417  10.0       6.53194\n",
       " 11.0076  7.66875  8.23125   8.58958  …   6.90347  10.4125    6.67292"
      ]
     },
     "execution_count": 3,
     "metadata": {},
     "output_type": "execute_result"
    }
   ],
   "source": [
    "m = reshape(bikes_august[!, :avg_docks_available], (31, 70))"
   ]
  },
  {
   "cell_type": "code",
   "execution_count": 4,
   "metadata": {},
   "outputs": [
    {
     "data": {
      "text/plain": [
       "31×70 Array{Float64,2}:\n",
       " 17.7591  2.97928  5.20994  11.6826  …  12.0459  8.8187   8.25105  9.76565\n",
       " 16.5297  3.92793  5.82223  11.6826     12.0459  9.47717  8.25105  9.0949 \n",
       " 15.5534  4.4989   5.82223  11.6826     12.0459  8.8187   8.25105  9.0949 \n",
       " 14.2173  5.20994  5.82223  11.6826     12.0459  8.8187   8.25105  9.0949 \n",
       " 13.1882  5.82223  5.82223  11.6826     11.6826  8.19681  8.25105  9.0949 \n",
       " 12.6806  5.82223  5.82223  11.6826  …  11.6826  8.8187   8.25105  9.0949 \n",
       " 13.4586  5.82223  5.82223  11.6826     11.6826  8.8187   8.25105  9.52642\n",
       " 14.2435  5.82223  5.82223  11.6826     11.6826  8.8187   8.25105  9.52642\n",
       " 14.2435  5.82223  5.82223  11.6826     11.6826  8.8187   8.25105  9.0949 \n",
       " 13.1882  5.82223  5.82223  11.6826     11.6826  8.8187   8.25105  9.0949 \n",
       " 12.6806  5.82223  5.82223  11.6826  …  11.6826  8.8187   8.25105  9.0949 \n",
       " 11.6826  5.82223  5.82223  11.6826     11.6826  8.8187   8.25105  9.0949 \n",
       " 11.6826  5.82223  5.82223  11.6826     11.6826  8.8187   8.25105  9.0949 \n",
       "  ⋮                                  ⋱                                    \n",
       " 11.6826  5.82223  5.82223  11.6826     11.6826  8.8187   8.25105  9.0949 \n",
       " 12.2781  5.82223  5.82223  11.6826  …  11.6826  8.8187   8.25105  9.0949 \n",
       " 11.6826  5.82223  5.82223  11.6826     11.6826  8.8187   8.25105  9.0949 \n",
       " 12.2781  5.82223  5.82223  11.6826     11.6826  8.8187   8.25105  9.0949 \n",
       " 11.6826  5.82223  5.82223  11.6826     11.6826  8.8187   8.25105  9.0949 \n",
       " 11.6826  5.82223  5.82223  11.6826     11.6826  8.8187   8.25105  9.0949 \n",
       " 11.6826  5.82223  5.82223  11.6826  …  11.6826  8.8187   8.25105  9.0949 \n",
       " 11.6826  5.82223  5.82223  11.6826     11.6826  8.8187   8.25105  9.0949 \n",
       " 12.2781  5.82223  5.82223  11.6826     11.6826  8.8187   8.25105  9.0949 \n",
       " 13.4586  5.82223  5.82223  11.6826     11.6826  8.8187   8.25105  9.0949 \n",
       " 14.0874  5.82223  5.82223  11.6826     11.6826  8.8187   8.25105  9.0949 \n",
       " 13.6773  5.82223  5.82223  10.9343  …  10.9343  8.19681  8.25105  9.0949 "
      ]
     },
     "execution_count": 4,
     "metadata": {},
     "output_type": "execute_result"
    }
   ],
   "source": [
    "prediction = CSV.read(\"prediction_cleaned.csv\", header = true, missingstring = \"NA\")\n",
    "m_predicted = convert(Matrix, prediction)"
   ]
  },
  {
   "cell_type": "code",
   "execution_count": 5,
   "metadata": {},
   "outputs": [
    {
     "data": {
      "text/plain": [
       "optimizeDocks (generic function with 1 method)"
      ]
     },
     "execution_count": 5,
     "metadata": {},
     "output_type": "execute_result"
    }
   ],
   "source": [
    "function optimizeDocks(m, min_docks, λ, M)\n",
    "        model = Model(solver=GurobiSolver(OutputFlag=0, TimeLimit=60, InfUnbdInfo=1))\n",
    "\n",
    "        @variable(model, t)\n",
    "        @variable(model, y[1:31, 1:70], Bin)  #1 if there less than 4 bikes at the station\n",
    "        @variable(model, x[1:70], Int)        #docks moved from station i\n",
    "        @variable(model, z[1:70], Bin)        #1 if station i's dock size is changed\n",
    "\n",
    "        @objective(model, Min, t + λ * sum(z))\n",
    "\n",
    "        #cannot take more bikes than there are\n",
    "        @constraint(model, [i = 1:31, j = 1:70], x[j] >= - m[i, j])\n",
    "    \n",
    "        #using only the docks within the system\n",
    "        @constraint(model, sum(x) == 0)\n",
    "\n",
    "        @constraint(model, t .>= sum(y, dims =2))\n",
    "\n",
    "        # y[i, j] = 1 when m[i, j] + x[i] < 4, which means on the jth day and ith location, \n",
    "        # there are less than 4 docks available \n",
    "        @constraint(model, [i = 1:31, j = 1:70], m[i, j] + x[i] >= min_docks - M * y[i, j])\n",
    "        @constraint(model, [i = 1:31, j = 1:70], m[i, j] + x[i] <= (min_docks - 0.001) + M * (1 - y[i, j]))\n",
    "\n",
    "\n",
    "        #sparsity constraint: touch as little stations as possible\n",
    "        @constraint(model, x .<= M*z)\n",
    "        @constraint(model, x .>= -M*z)\n",
    "\n",
    "        solve(model)\n",
    "    return getobjectivevalue(model), getvalue(x), getvalue(z), getvalue(y)\n",
    "end"
   ]
  },
  {
   "cell_type": "markdown",
   "metadata": {},
   "source": [
    "Testing the model on the true data. "
   ]
  },
  {
   "cell_type": "code",
   "execution_count": 6,
   "metadata": {},
   "outputs": [
    {
     "name": "stdout",
     "output_type": "stream",
     "text": [
      "Academic license - for non-commercial use only\n",
      "Optimal objective value is 9.5\n",
      "Bikes moved: 4.0\n",
      "Stations changed: 3.0\n"
     ]
    }
   ],
   "source": [
    "opt_objective_true, opt_x_true, opt_z_true, opt_y_true = optimizeDocks(m, 5, 0.5, 100);\n",
    "println(\"Optimal objective value is \", opt_objective_true)\n",
    "println(\"Bikes moved: \", sum(abs.(opt_x_true)))\n",
    "println(\"Stations changed: \", sum(opt_z_true))"
   ]
  },
  {
   "cell_type": "markdown",
   "metadata": {},
   "source": [
    "Testing the model on the predictions from Optimal Regression Tree. "
   ]
  },
  {
   "cell_type": "code",
   "execution_count": 7,
   "metadata": {},
   "outputs": [
    {
     "name": "stdout",
     "output_type": "stream",
     "text": [
      "Academic license - for non-commercial use only\n",
      "Optimal objective value is 2.0\n",
      "Bikes moved: 12.0\n",
      "Stations changed: 4.0\n"
     ]
    }
   ],
   "source": [
    "opt_objective_pred, opt_x_pred, opt_z_pred, opt_y_pred = optimizeDocks(m_predicted, 5, 0.5, 100);\n",
    "println(\"Optimal objective value is \", opt_objective_pred)\n",
    "println(\"Bikes moved: \", sum(abs.(opt_x_pred)))\n",
    "println(\"Stations changed: \", sum(opt_z_pred))"
   ]
  },
  {
   "cell_type": "markdown",
   "metadata": {},
   "source": [
    "### Introducing the fairness consideration"
   ]
  },
  {
   "cell_type": "code",
   "execution_count": 8,
   "metadata": {},
   "outputs": [],
   "source": [
    "station_in_zipcode = CSV.read(\"station_in_zipcode.csv\", header = true, missingstring = \"NA\")\n",
    "station_in_zipcode = station_in_zipcode[!, 4:end]\n",
    "station_in_zipcode = convert(Matrix, station_in_zipcode)\n",
    "\n",
    "population_per_zipcode = CSV.read(\"population_per_zipcode.csv\", header = true, missingstring = \"NA\")\n",
    "population_per_zipcode = convert(Array, population_per_zipcode[!, 2]);"
   ]
  },
  {
   "cell_type": "code",
   "execution_count": 9,
   "metadata": {},
   "outputs": [
    {
     "data": {
      "text/plain": [
       "optimizeDocks (generic function with 2 methods)"
      ]
     },
     "execution_count": 9,
     "metadata": {},
     "output_type": "execute_result"
    }
   ],
   "source": [
    "function optimizeDocks(m, min_docks, λ, β, M)\n",
    "        model = Model(solver=GurobiSolver(OutputFlag=0, TimeLimit=60, InfUnbdInfo=1))\n",
    "\n",
    "        @variable(model, t)\n",
    "        @variable(model, y[1:31, 1:70], Bin)  #1 if there less than 4 bikes at the station\n",
    "        @variable(model, x[1:70], Int)        #docks moved from station i\n",
    "        @variable(model, z[1:70], Bin)        #1 if station i's dock size is changed\n",
    "        @variable(model, ratio[1:5, 1:31])    #ratio of docks available per person per zipcode per day\n",
    "        @variable(model, L)\n",
    "\n",
    "        @objective(model, Min, t + λ * sum(z) + β * L)\n",
    "\n",
    "        #cannot take more bikes than there are\n",
    "        @constraint(model, [i = 1:31, j = 1:70], x[j] >= - m[i, j])\n",
    "    \n",
    "        #using only the docks within the system\n",
    "        @constraint(model, sum(x) == 0)\n",
    "\n",
    "        @constraint(model, t .>= sum(y, dims =2))\n",
    "\n",
    "        # y[i, j] = 1 when m[i, j] + x[i] < 4, which means on the jth day and ith location, \n",
    "        # there are less than 4 docks available \n",
    "        @constraint(model, [i = 1:31, j = 1:70], m[i, j] + x[i] >= min_docks - M * y[i, j])\n",
    "        @constraint(model, [i = 1:31, j = 1:70], m[i, j] + x[i] <= (min_docks - 0.001) + M * (1 - y[i, j]))\n",
    "\n",
    "        #sparsity constraint: touch as little stations as possible\n",
    "        @constraint(model, x .<= M*z)\n",
    "        @constraint(model, x .>= -M*z)\n",
    "    \n",
    "        #fairness\n",
    "        @constraint(model, [i = 1:5, j = 1:31], ratio[i, j] == ((m[j, :] + x)' * station_in_zipcode[:, i]) / population_per_zipcode[i])\n",
    "        @constraint(model, [i = 1:5, j = 1:31, k = 1:5, h = 1:31], ratio[i, j] - ratio[k, h] <= L)\n",
    "        @constraint(model, [i = 1:5, j = 1:31, k = 1:5, h = 1:31], ratio[i, j] - ratio[k, h] >= -L)    \n",
    "    \n",
    "        solve(model)\n",
    "    return getobjectivevalue(model), getvalue(x), getvalue(z), getvalue(y), getvalue(L), getvalue(ratio)\n",
    "end"
   ]
  },
  {
   "cell_type": "code",
   "execution_count": 10,
   "metadata": {},
   "outputs": [
    {
     "name": "stdout",
     "output_type": "stream",
     "text": [
      "Academic license - for non-commercial use only\n",
      "Optimal objective value is 9.57779653875306\n",
      "Bikes moved: 10.0\n",
      "Stations changed: 3.0\n"
     ]
    }
   ],
   "source": [
    "opt_objective_true_2, opt_x_true_2, opt_z_true_2, opt_y_true_2, opt_L_true_2, opt_ratio_true_2 = optimizeDocks(m, 5, 0.5, 0.5, 100);\n",
    "println(\"Optimal objective value is \", opt_objective_true_2)\n",
    "println(\"Bikes moved: \", sum(abs.(opt_x_true_2)))\n",
    "println(\"Stations changed: \", sum(opt_z_true_2))"
   ]
  },
  {
   "cell_type": "code",
   "execution_count": 11,
   "metadata": {},
   "outputs": [
    {
     "name": "stdout",
     "output_type": "stream",
     "text": [
      "Academic license - for non-commercial use only\n",
      "Optimal objective value is 2.077510366034596\n",
      "Bikes moved: 12.0\n",
      "Stations changed: 4.0\n"
     ]
    }
   ],
   "source": [
    "opt_objective_pred_2, opt_x_pred_2, opt_z_pred_2, opt_y_pred_2, opt_L_pred_2, opt_ratio_pred_2 = optimizeDocks(m_predicted, 5, 0.5, 0.5, 100);\n",
    "println(\"Optimal objective value is \", opt_objective_pred_2)\n",
    "println(\"Bikes moved: \", sum(abs.(opt_x_pred_2)))\n",
    "println(\"Stations changed: \", sum(opt_z_pred_2))"
   ]
  },
  {
   "cell_type": "code",
   "execution_count": 12,
   "metadata": {},
   "outputs": [
    {
     "data": {
      "text/plain": [
       "70×4 Array{Float64,2}:\n",
       " 0.0   0.0   3.0   3.0\n",
       " 0.0   0.0   2.0   2.0\n",
       " 0.0   0.0   1.0   1.0\n",
       " 0.0   0.0  -0.0   0.0\n",
       " 0.0   0.0  -0.0   0.0\n",
       " 0.0   0.0  -0.0   0.0\n",
       " 0.0   0.0  -0.0   0.0\n",
       " 0.0  -0.0  -0.0   0.0\n",
       " 0.0   0.0  -0.0   0.0\n",
       " 0.0   0.0  -0.0   0.0\n",
       " 0.0   0.0  -0.0   0.0\n",
       " 0.0   0.0  -0.0   0.0\n",
       " 0.0   0.0  -0.0   0.0\n",
       " ⋮                    \n",
       " 0.0   0.0   0.0   0.0\n",
       " 0.0   0.0   0.0   0.0\n",
       " 0.0   0.0   0.0   0.0\n",
       " 0.0   0.0   0.0   0.0\n",
       " 0.0   0.0   0.0   0.0\n",
       " 0.0   0.0   0.0   0.0\n",
       " 0.0   0.0   0.0   0.0\n",
       " 0.0   0.0   0.0   0.0\n",
       " 0.0  -5.0   0.0  -6.0\n",
       " 0.0   0.0   0.0   0.0\n",
       " 0.0   0.0   0.0   0.0\n",
       " 0.0   0.0   0.0   0.0"
      ]
     },
     "execution_count": 12,
     "metadata": {},
     "output_type": "execute_result"
    }
   ],
   "source": [
    "cat(opt_x_true, opt_x_true_2, opt_x_pred, opt_x_pred_2, dims = 2)"
   ]
  },
  {
   "cell_type": "code",
   "execution_count": 13,
   "metadata": {},
   "outputs": [
    {
     "data": {
      "text/plain": [
       "70×4 Array{Float64,2}:\n",
       " 0.0   0.0   1.0   1.0\n",
       " 0.0   0.0   1.0   1.0\n",
       " 0.0   0.0   1.0   1.0\n",
       " 0.0  -0.0  -0.0   0.0\n",
       " 0.0   0.0  -0.0   0.0\n",
       " 0.0   0.0  -0.0   0.0\n",
       " 0.0   0.0  -0.0   0.0\n",
       " 0.0   0.0  -0.0   0.0\n",
       " 0.0  -0.0  -0.0   0.0\n",
       " 0.0   0.0  -0.0   0.0\n",
       " 0.0   0.0  -0.0   0.0\n",
       " 0.0  -0.0  -0.0   0.0\n",
       " 0.0   0.0  -0.0   0.0\n",
       " ⋮                    \n",
       " 0.0  -0.0  -0.0  -0.0\n",
       " 0.0  -0.0  -0.0  -0.0\n",
       " 0.0  -0.0  -0.0  -0.0\n",
       " 0.0  -0.0  -0.0  -0.0\n",
       " 0.0  -0.0  -0.0  -0.0\n",
       " 0.0  -0.0  -0.0  -0.0\n",
       " 0.0  -0.0  -0.0  -0.0\n",
       " 0.0  -0.0  -0.0  -0.0\n",
       " 0.0   1.0  -0.0   1.0\n",
       " 0.0  -0.0  -0.0  -0.0\n",
       " 0.0  -0.0  -0.0  -0.0\n",
       " 0.0  -0.0  -0.0  -0.0"
      ]
     },
     "execution_count": 13,
     "metadata": {},
     "output_type": "execute_result"
    }
   ],
   "source": [
    "cat(opt_z_true, opt_z_true_2, opt_z_pred, opt_z_pred_2, dims = 2)"
   ]
  },
  {
   "cell_type": "code",
   "execution_count": 14,
   "metadata": {},
   "outputs": [
    {
     "name": "stdout",
     "output_type": "stream",
     "text": [
      "4.0\n",
      "10.0\n",
      "12.0\n",
      "12.0\n"
     ]
    }
   ],
   "source": [
    "println(sum(abs.(opt_x_true)))\n",
    "println(sum(abs.(opt_x_true_2)))\n",
    "println(sum(abs.(opt_x_pred)))\n",
    "println(sum(abs.(opt_x_pred_2)))"
   ]
  },
  {
   "cell_type": "markdown",
   "metadata": {},
   "source": [
    "Varying the min_docks parameter to get the total number of docks transported and stations touched. Other parameters remain constant: λ = 0.5, β = 0.5 and M = 100. "
   ]
  },
  {
   "cell_type": "code",
   "execution_count": 43,
   "metadata": {},
   "outputs": [
    {
     "data": {
      "text/plain": [
       "15×3 LinearAlgebra.Adjoint{Any,Array{Any,2}}:\n",
       "  1    0.0   0.0\n",
       "  2    0.0   0.0\n",
       "  3   10.0   2.0\n",
       "  4   10.0   5.0\n",
       "  5   10.0   3.0\n",
       "  6   10.0   3.0\n",
       "  7   10.0   3.0\n",
       "  8  234.0  47.0\n",
       "  9  296.0  53.0\n",
       " 10  358.0  60.0\n",
       " 11  376.0  62.0\n",
       " 12  402.0  65.0\n",
       " 13  410.0  66.0\n",
       " 14  430.0  70.0\n",
       " 15  426.0  69.0"
      ]
     },
     "execution_count": 43,
     "metadata": {},
     "output_type": "execute_result"
    }
   ],
   "source": [
    "list_changing_min_docks = []\n",
    "for min_docks = 1:15\n",
    "    x = @suppress begin optimizeDocks(m, min_docks, 0.5, 0.5, 100) end\n",
    "    total_docks = sum(abs.(x[2]))\n",
    "    stations_touched = sum(x[3])\n",
    "    list_changing_min_docks = cat(list_changing_min_docks, min_docks, total_docks, stations_touched, dims = 1)\n",
    "end\n",
    "list_changing_min_docks = reshape(list_changing_min_docks, (3, length(1:15)))'"
   ]
  },
  {
   "cell_type": "markdown",
   "metadata": {},
   "source": [
    "Varying the sparsity parameter. Other parameters remain constant: min_docks = 6, β = 0.5 and M = 100. "
   ]
  },
  {
   "cell_type": "code",
   "execution_count": 38,
   "metadata": {},
   "outputs": [
    {
     "data": {
      "text/plain": [
       "21×3 LinearAlgebra.Adjoint{Any,Array{Any,2}}:\n",
       " 0.0  410.0  70.0\n",
       " 0.1  208.0  45.0\n",
       " 0.2  208.0  45.0\n",
       " 0.3  208.0  45.0\n",
       " 0.4   10.0   3.0\n",
       " 0.5   10.0   3.0\n",
       " 0.6   10.0   3.0\n",
       " 0.7   10.0   3.0\n",
       " 0.8   10.0   3.0\n",
       " 0.9   10.0   3.0\n",
       " 1.0   10.0   3.0\n",
       " 1.1   10.0   3.0\n",
       " 1.2   10.0   3.0\n",
       " 1.3   10.0   3.0\n",
       " 1.4   10.0   3.0\n",
       " 1.5   10.0   3.0\n",
       " 1.6   10.0   3.0\n",
       " 1.7    0.0   0.0\n",
       " 1.8    0.0   0.0\n",
       " 1.9    0.0   0.0\n",
       " 2.0    0.0   0.0"
      ]
     },
     "execution_count": 38,
     "metadata": {},
     "output_type": "execute_result"
    }
   ],
   "source": [
    "list_changing_lambda = []\n",
    "for λ = collect(0.0:0.1:2.0)\n",
    "    x = @suppress begin optimizeDocks(m, 6, λ, 0.5, 100) end\n",
    "    total_docks = sum(abs.(x[2]))\n",
    "    stations_touched = sum(x[3])\n",
    "    list_changing_lambda = cat(list_changing_lambda, λ, total_docks, stations_touched, dims = 1)\n",
    "end\n",
    "list_changing_lambda = reshape(list_changing_lambda, (3, length(collect(0.0:0.1:2.0))))'"
   ]
  },
  {
   "cell_type": "markdown",
   "metadata": {},
   "source": [
    "With and without the fairness consideration β, the allocation changes. Other parameters remain constant: min_docks = 6, λ = 0.5 and M = 100. "
   ]
  },
  {
   "cell_type": "code",
   "execution_count": 57,
   "metadata": {},
   "outputs": [],
   "source": [
    "β = 0\n",
    "x = optimizeDocks(m, 8, 0.5, β, 100)\n",
    "writedlm(\"dock_allocation_NO_fairness.csv\",  x[2], ',')"
   ]
  },
  {
   "cell_type": "code",
   "execution_count": 17,
   "metadata": {},
   "outputs": [
    {
     "name": "stdout",
     "output_type": "stream",
     "text": [
      "Academic license - for non-commercial use only\n"
     ]
    }
   ],
   "source": [
    "β = 5.0\n",
    "x = optimizeDocks(m, 8, 0.5, β, 100)\n",
    "opt_x = x[2]\n",
    "writedlm(\"dock_allocation_WITH_fairness.csv\",  x[2], ',')"
   ]
  },
  {
   "cell_type": "code",
   "execution_count": 59,
   "metadata": {},
   "outputs": [],
   "source": [
    "writedlm(\"list_changing_min_docks.csv\",  list_changing_min_docks, ',')\n",
    "writedlm(\"list_changing_lambda.csv\",  list_changing_lambda, ',')"
   ]
  },
  {
   "cell_type": "code",
   "execution_count": null,
   "metadata": {},
   "outputs": [],
   "source": []
  }
 ],
 "metadata": {
  "kernelspec": {
   "display_name": "Julia 1.2.0",
   "language": "julia",
   "name": "julia-1.2"
  },
  "language_info": {
   "file_extension": ".jl",
   "mimetype": "application/julia",
   "name": "julia",
   "version": "1.2.0"
  }
 },
 "nbformat": 4,
 "nbformat_minor": 2
}
